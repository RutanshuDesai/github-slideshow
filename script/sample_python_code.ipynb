{
 "cells": [
  {
   "cell_type": "code",
   "execution_count": 1,
   "metadata": {
    "ExecuteTime": {
     "end_time": "2020-05-24T20:22:40.442654Z",
     "start_time": "2020-05-24T20:22:40.439485Z"
    }
   },
   "outputs": [],
   "source": [
    "## test code file to be pushed to github repo"
   ]
  },
  {
   "cell_type": "code",
   "execution_count": 2,
   "metadata": {
    "ExecuteTime": {
     "end_time": "2020-05-24T20:23:07.931276Z",
     "start_time": "2020-05-24T20:23:07.929004Z"
    }
   },
   "outputs": [],
   "source": [
    "def function(x):\n",
    "    print(x)"
   ]
  },
  {
   "cell_type": "code",
   "execution_count": 3,
   "metadata": {
    "ExecuteTime": {
     "end_time": "2020-05-24T20:23:23.171955Z",
     "start_time": "2020-05-24T20:23:23.169153Z"
    }
   },
   "outputs": [
    {
     "name": "stdout",
     "output_type": "stream",
     "text": [
      "hi rutanshu\n"
     ]
    }
   ],
   "source": [
    "function('hi rutanshu')"
   ]
  },
  {
   "cell_type": "code",
   "execution_count": 11,
   "metadata": {
    "ExecuteTime": {
     "end_time": "2020-05-24T20:47:03.957762Z",
     "start_time": "2020-05-24T20:47:03.954909Z"
    }
   },
   "outputs": [],
   "source": [
    "def function2_upper(x):\n",
    "    new_str=x.upper()\n",
    "    return new_str"
   ]
  },
  {
   "cell_type": "code",
   "execution_count": 15,
   "metadata": {
    "ExecuteTime": {
     "end_time": "2020-05-24T20:47:17.934042Z",
     "start_time": "2020-05-24T20:47:17.930699Z"
    }
   },
   "outputs": [
    {
     "data": {
      "text/plain": [
       "'HI REKO'"
      ]
     },
     "execution_count": 15,
     "metadata": {},
     "output_type": "execute_result"
    }
   ],
   "source": [
    "function2_upper('Hi Reko')"
   ]
  },
  {
   "cell_type": "code",
   "execution_count": null,
   "metadata": {},
   "outputs": [],
   "source": []
  }
 ],
 "metadata": {
  "kernelspec": {
   "display_name": "Python 3",
   "language": "python",
   "name": "python3"
  },
  "language_info": {
   "codemirror_mode": {
    "name": "ipython",
    "version": 3
   },
   "file_extension": ".py",
   "mimetype": "text/x-python",
   "name": "python",
   "nbconvert_exporter": "python",
   "pygments_lexer": "ipython3",
   "version": "3.6.7"
  }
 },
 "nbformat": 4,
 "nbformat_minor": 2
}
